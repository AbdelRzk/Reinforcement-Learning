{
 "cells": [
  {
   "cell_type": "code",
   "execution_count": 18,
   "id": "b3de691b",
   "metadata": {},
   "outputs": [],
   "source": [
    "import gymnasium as gym\n",
    "import numpy as np\n",
    "import matplotlib.pyplot as plt\n",
    "import random\n",
    "import imageio\n",
    "import os\n",
    "from tqdm.notebook import tqdm\n",
    "import cv2"
   ]
  },
  {
   "cell_type": "code",
   "execution_count": 19,
   "id": "2bba20f1",
   "metadata": {},
   "outputs": [],
   "source": [
    "env = gym.make(\"FrozenLake-v1\", map_name=\"4x4\", is_slippery=False, render_mode=\"rgb_array\")"
   ]
  },
  {
   "cell_type": "code",
   "execution_count": 20,
   "id": "531bbd9c",
   "metadata": {},
   "outputs": [],
   "source": [
    "observation_size, action_size = env.observation_space.n, env.action_space.n"
   ]
  },
  {
   "cell_type": "code",
   "execution_count": 21,
   "id": "1f9a2c89",
   "metadata": {},
   "outputs": [
    {
     "name": "stdout",
     "output_type": "stream",
     "text": [
      "*********************************\n",
      "******* Observation Space *******\n",
      "*********************************\n",
      "Observation Space: Discrete(16)\n",
      "Sample observation: 15\n"
     ]
    }
   ],
   "source": [
    "print(\"*********************************\")\n",
    "print(\"******* Observation Space *******\")\n",
    "print(\"*********************************\")\n",
    "print(\"Observation Space:\", env.observation_space)\n",
    "print(\"Sample observation:\", env.observation_space.sample())"
   ]
  },
  {
   "cell_type": "code",
   "execution_count": 22,
   "id": "7d015022",
   "metadata": {},
   "outputs": [
    {
     "name": "stdout",
     "output_type": "stream",
     "text": [
      "*********************************\n",
      "********* Action Space **********\n",
      "*********************************\n",
      "Action Space: Discrete(16)\n",
      "Sample action: 1\n"
     ]
    }
   ],
   "source": [
    "print(\"*********************************\")\n",
    "print(\"********* Action Space **********\")\n",
    "print(\"*********************************\")\n",
    "print(\"Action Space:\", env.observation_space)\n",
    "print(\"Sample action:\", env.action_space.sample())"
   ]
  },
  {
   "cell_type": "code",
   "execution_count": 23,
   "id": "4ad79946",
   "metadata": {},
   "outputs": [],
   "source": [
    "def greedy_policy(Q, state):\n",
    "    return np.argmax(Q[state])"
   ]
  },
  {
   "cell_type": "code",
   "execution_count": 24,
   "id": "2b7b351d",
   "metadata": {},
   "outputs": [],
   "source": [
    "def epsilon_greedy_policy(Q, state, epsilon):\n",
    "    if random.uniform(0, 1) <= epsilon:\n",
    "        action = env.action_space.sample()\n",
    "    else:\n",
    "        action = greedy_policy(Q, state)\n",
    "    return action"
   ]
  },
  {
   "cell_type": "code",
   "execution_count": 25,
   "id": "6423135f",
   "metadata": {},
   "outputs": [],
   "source": [
    "# Training parameters\n",
    "\n",
    "n_training_episodes = 1000  # Total training episodes\n",
    "alpha = 0.7  # Learning rate\n",
    "\n",
    "# Evaluation parameters\n",
    "n_eval_episodes = 100  # Total number of test episodes\n",
    "\n",
    "# Environment parameters\n",
    "env_id = \"FrozenLake-v1\"  # Name of the environment\n",
    "max_steps = 99  # Max steps per episode\n",
    "gamma = 0.95  # Discounting rate\n",
    "eval_seed = []  # The evaluation seed of the environment\n",
    "\n",
    "# Exploration parameters\n",
    "max_epsilon = 1.0  # Exploration probability at start\n",
    "min_epsilon = 0.05  # Minimum exploration probability\n",
    "decay_rate = 0.0005  # Exponential decay rate for exploration prob"
   ]
  },
  {
   "cell_type": "code",
   "execution_count": 26,
   "id": "1026d1c4",
   "metadata": {},
   "outputs": [],
   "source": [
    "def train_Q_Learning_Agent(env, n_training_episodes, max_epsilon, min_epsilon, alpha, max_steps, gamma, decay_rate):    \n",
    "    \n",
    "    Q = np.zeros((env.observation_space.n, env.action_space.n))\n",
    "    return_per_episode = []\n",
    "\n",
    "    for episode in range(n_training_episodes):\n",
    "        epsilon = min_epsilon + (max_epsilon - min_epsilon) * np.exp(-decay_rate * episode)\n",
    "        state, _ = env.reset()\n",
    "        cum_reward = 0\n",
    "\n",
    "        for step in range(max_steps):\n",
    "            action = epsilon_greedy_policy(Q, state, epsilon)\n",
    "            next_state, reward, done, truncated, _ = env.step(action)\n",
    "            Q[state, action] = Q[state, action] + alpha * (reward + gamma * np.max(Q[next_state]) - Q[state, action])\n",
    "            cum_reward += reward\n",
    "\n",
    "            if done or truncated:\n",
    "                break\n",
    "            state = next_state\n",
    "        return_per_episode.append(cum_reward)\n",
    "        \n",
    "    return Q, return_per_episode"
   ]
  },
  {
   "cell_type": "code",
   "execution_count": 27,
   "id": "2138786f",
   "metadata": {},
   "outputs": [],
   "source": [
    "Q, return_per_episode = train_Q_Learning_Agent(env, n_training_episodes, max_epsilon, min_epsilon, alpha, max_steps, gamma, decay_rate)"
   ]
  },
  {
   "cell_type": "code",
   "execution_count": 28,
   "id": "7b84da26",
   "metadata": {},
   "outputs": [
    {
     "data": {
      "text/plain": [
       "array([[0.73509189, 0.77378094, 0.77378094, 0.73509189],\n",
       "       [0.73509189, 0.        , 0.81450625, 0.77378094],\n",
       "       [0.77378094, 0.857375  , 0.77378094, 0.81450625],\n",
       "       [0.81450625, 0.        , 0.77378094, 0.77378094],\n",
       "       [0.77378094, 0.81450625, 0.        , 0.73509189],\n",
       "       [0.        , 0.        , 0.        , 0.        ],\n",
       "       [0.        , 0.9025    , 0.        , 0.81450625],\n",
       "       [0.        , 0.        , 0.        , 0.        ],\n",
       "       [0.81450625, 0.        , 0.857375  , 0.77378094],\n",
       "       [0.81450625, 0.9025    , 0.9025    , 0.        ],\n",
       "       [0.857375  , 0.95      , 0.        , 0.857375  ],\n",
       "       [0.        , 0.        , 0.        , 0.        ],\n",
       "       [0.        , 0.        , 0.        , 0.        ],\n",
       "       [0.        , 0.90249986, 0.95      , 0.857375  ],\n",
       "       [0.9025    , 0.95      , 1.        , 0.9025    ],\n",
       "       [0.        , 0.        , 0.        , 0.        ]])"
      ]
     },
     "execution_count": 28,
     "metadata": {},
     "output_type": "execute_result"
    }
   ],
   "source": [
    "Q"
   ]
  },
  {
   "cell_type": "code",
   "execution_count": 29,
   "id": "aabcccea",
   "metadata": {},
   "outputs": [],
   "source": [
    "def record_video(env, Q, out_directory):\n",
    "    \"\"\"\n",
    "    Generate a replay video of the agent\n",
    "    :param env\n",
    "    :param Qtable: Qtable of our agent\n",
    "    :param out_directory\n",
    "    :param fps: how many frame per seconds (with taxi-v3 and frozenlake-v1 we use 1)\n",
    "    \"\"\"\n",
    "    images = []\n",
    "    done = False\n",
    "    truncated = False\n",
    "    state, info = env.reset(seed=random.randint(0, 500))\n",
    "    img = env.render()\n",
    "    cv2.imwrite(f\"{out_directory}/img_init.JPG\", img)\n",
    "    i=0\n",
    "    while not done or truncated:\n",
    "        # Take the action (index) that have the maximum expected future reward given that state\n",
    "        action = np.argmax(Q[state])\n",
    "        state, reward, done, truncated, info = env.step(\n",
    "            action\n",
    "        )  # We directly put next_state = state for recording logic\n",
    "        img = env.render()\n",
    "        cv2.imwrite(f\"{out_directory}/img{i}.JPG\", img)\n",
    "        i += 1"
   ]
  },
  {
   "cell_type": "code",
   "execution_count": 30,
   "id": "512cb458",
   "metadata": {},
   "outputs": [],
   "source": [
    "record_video(env, Q, \"QL_Images\")"
   ]
  },
  {
   "cell_type": "code",
   "execution_count": 31,
   "id": "d0ba9c1c",
   "metadata": {},
   "outputs": [],
   "source": [
    "import glob\n",
    "from PIL import Image\n",
    "\n",
    "def make_gif(frame_folder):\n",
    "    frames = [Image.open(image) for image in glob.glob(f\"{frame_folder}/*.JPG\")]\n",
    "    frame_one = frames[0]\n",
    "    frame_one.save(\"Q_Agent.gif\", format=\"GIF\", append_images=frames,\n",
    "               save_all=True, duration=750, loop=0)"
   ]
  },
  {
   "cell_type": "code",
   "execution_count": 32,
   "id": "a033e222",
   "metadata": {},
   "outputs": [],
   "source": [
    "make_gif(\"QL_Images\")"
   ]
  },
  {
   "cell_type": "code",
   "execution_count": null,
   "id": "4d02e76c",
   "metadata": {},
   "outputs": [],
   "source": []
  }
 ],
 "metadata": {
  "kernelspec": {
   "display_name": "Python 3 (ipykernel)",
   "language": "python",
   "name": "python3"
  },
  "language_info": {
   "codemirror_mode": {
    "name": "ipython",
    "version": 3
   },
   "file_extension": ".py",
   "mimetype": "text/x-python",
   "name": "python",
   "nbconvert_exporter": "python",
   "pygments_lexer": "ipython3",
   "version": "3.9.17"
  }
 },
 "nbformat": 4,
 "nbformat_minor": 5
}
